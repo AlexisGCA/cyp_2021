{
  "nbformat": 4,
  "nbformat_minor": 0,
  "metadata": {
    "colab": {
      "name": "5_Enero_CyP.ipynb",
      "provenance": [],
      "collapsed_sections": [],
      "authorship_tag": "ABX9TyMVwXIp7JTHzL13I1WyWS/J",
      "include_colab_link": true
    },
    "kernelspec": {
      "name": "python3",
      "display_name": "Python 3"
    }
  },
  "cells": [
    {
      "cell_type": "markdown",
      "metadata": {
        "id": "view-in-github",
        "colab_type": "text"
      },
      "source": [
        "<a href=\"https://colab.research.google.com/github/AlexisGCA/cyp_2021/blob/main/5_Enero_CyP.ipynb\" target=\"_parent\"><img src=\"https://colab.research.google.com/assets/colab-badge.svg\" alt=\"Open In Colab\"/></a>"
      ]
    },
    {
      "cell_type": "code",
      "metadata": {
        "id": "qvcSqm8ij-2E"
      },
      "source": [
        "sueldos=[0.0 for x in range(7)]\r\n",
        "print(sueldos)\r\n",
        "sueldos[0]=12.3\r\n",
        "sueldos[1]=41.3\r\n",
        "sueldos[2]=53.3\r\n",
        "sueldos[3]=52.3\r\n",
        "sueldos[4]=63.3\r\n",
        "sueldos[5]=84.3\r\n",
        "sueldos[6]=73.3\r\n",
        "print(sueldos)\r\n",
        "# Como asignarles valor para emplearles valor de el 1.0 al 7.0\r\n",
        "# con una estructura for\r\n",
        "for j in range(7):\r\n",
        "  sueldos[j]=float(input(\"Introduce sueldo \"))\r\n",
        "  print(sueldos)\r\n",
        "# Otra solucion\r\n",
        "sueldo=[float(x) for x in range(7)]\r\n",
        "for i in range(0, 7):\r\n",
        "  sueldo[i]=float(i)+1.0\r\n",
        "print(sueldo)\r\n",
        "# Automatizar el recorrido de los elementos del arreglo\r\n",
        "for i in range(7):\r\n",
        "  print(f\"El trabajador {int(i)+1} gana ${sueldo[i]}\")"
      ],
      "execution_count": null,
      "outputs": []
    },
    {
      "cell_type": "code",
      "metadata": {
        "id": "1UwupiTEnrLm"
      },
      "source": [
        "# Problema 4.1\r\n",
        "MAXIMO=7\r\n",
        "sueldos=[0.0 for x in range(MAXIMO)]\r\n",
        "SUMA=0.0\r\n",
        "PROMEDIO=0.0\r\n",
        "for i in range(MAXIMO):\r\n",
        "  sueldos[i]=float(input(\"Dame el sueldo: \"))\r\n",
        "for i in range(MAXIMO):\r\n",
        "  print(f\"Trabajador {i+1}, gana:{sueldos[i]}\")\r\n",
        "for i in range(MAXIMO):\r\n",
        "  SUMA=SUMA+sueldos[1]\r\n",
        "PROMEDIO=SUMA/MAXIMO\r\n",
        "print(f\"El promedio es de:{PROMEDIO}\")\r\n",
        "for i in range(MAXIMO):\r\n",
        "  if sueldos[i]>PROMEDIO:\r\n",
        "    print(f\"El trabajador {i+1} tiene un sueldo mayor al promedio\")"
      ],
      "execution_count": null,
      "outputs": []
    },
    {
      "cell_type": "code",
      "metadata": {
        "id": "ooW9XIl3w8vy"
      },
      "source": [
        "# Hacer un programa que solicite 5 valores enteros positivos y \r\n",
        "# una vez que se capturen, el programa determine:\r\n",
        "# cual es de mayor valor y el de menor valor\r\n",
        "# cual es el promedio \r\n",
        "MAXIMO=5\r\n",
        "valor=(0.0 for i in range(MAXIMO))\r\n",
        "PROMEDIO=0.0\r\n",
        "SUMA=0.0\r\n",
        "M=0\r\n",
        "N=100000000\r\n",
        "for i in range(MAXIMO):\r\n",
        "  valor[i]=int(input(\"Dame un valor: \"))\r\n",
        "  if valor[i]>M:\r\n",
        "    M=valor[i]\r\n",
        "  elif valor[i]<N:\r\n",
        "      N=valor[i]\r\n",
        "for i in range(MAXIMO):\r\n",
        "  SUMA=SUMA+valor[i]\r\n",
        "PROMEDIO=SUMA/MAXIMO\r\n",
        "print(f\"El mayor es {M}\")\r\n",
        "print(f\"El menor es {N}\")\r\n",
        "print(f\"El promedio es {PROMEDIO}\")"
      ],
      "execution_count": null,
      "outputs": []
    },
    {
      "cell_type": "code",
      "metadata": {
        "id": "sdV9EZ-ExAFJ"
      },
      "source": [
        "# Problema 4.1\r\n",
        "N=int(input(\"Ingrese el numero de elementos del arreglo:\"))\r\n",
        "VEC=[]\r\n",
        "if 1<=N and N<=500:\r\n",
        "  VEC=[0 for x in range(N)]\r\n",
        "  print(VEC)\r\n",
        "  for I in range(N):\r\n",
        "    VEC[I]=int(input(\"Ingrese el valor\"+ str(I+1) +\":\"))\r\n",
        "  print(\"Lista de numeros sin repeticiones:\")\r\n",
        "  I=0\r\n",
        "  while I<N:\r\n",
        "    print(VEC[I])\r\n",
        "    REPET=VEC[I]\r\n",
        "    while I<N and REPET==VEC[I]:\r\n",
        "      I=I+1\r\n",
        "    I=I+1  \r\n",
        "else:\r\n",
        "  print(\"El numero de elementos del arreglo es incorrecto\")"
      ],
      "execution_count": null,
      "outputs": []
    }
  ]
}