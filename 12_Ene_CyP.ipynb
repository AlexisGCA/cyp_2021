{
  "nbformat": 4,
  "nbformat_minor": 0,
  "metadata": {
    "colab": {
      "name": "12_Ene_CyP.ipynb",
      "provenance": [],
      "collapsed_sections": [],
      "authorship_tag": "ABX9TyP6/+RnEDHIQMyjR5ORjtoK",
      "include_colab_link": true
    },
    "kernelspec": {
      "name": "python3",
      "display_name": "Python 3"
    }
  },
  "cells": [
    {
      "cell_type": "markdown",
      "metadata": {
        "id": "view-in-github",
        "colab_type": "text"
      },
      "source": [
        "<a href=\"https://colab.research.google.com/github/AlexisGCA/cyp_2021/blob/main/12_Ene_CyP.ipynb\" target=\"_parent\"><img src=\"https://colab.research.google.com/assets/colab-badge.svg\" alt=\"Open In Colab\"/></a>"
      ]
    },
    {
      "cell_type": "markdown",
      "metadata": {
        "id": "lFo_fsXkpeyZ"
      },
      "source": [
        "# Introducción a Python\r\n",
        "- Creado en los 90´s por Guido Van R.\r\n",
        "- En el 2000 python mejora y tiene nuevas caracteristicas.\r\n",
        "- En el 2020 deja de ser la varsion oficial python 2.7\r\n",
        "y solo se le dara soporte a python 3 en adelante.\r\n",
        "\r\n",
        "## Caracteristicas de python\r\n",
        "1. Lenguaje de propósito general.\r\n",
        "2. Es interpretado y no compilado.\r\n",
        "3. Tipos de datos dinamicos.(numericos, cadena, booleanos, etc)\r\n",
        "4. Multiplataformas.\r\n",
        "5. Lenguaje multi-paradigma.\r\n",
        "6. Código es estructurado por identación.\r\n",
        "\r\n",
        "## Principios Zen de Python\r\n",
        "\r\n",
        "Son las caracteristicas que guian el diseño del\r\n",
        "lenguaje de programacion phyton.\r\n"
      ]
    },
    {
      "cell_type": "code",
      "metadata": {
        "id": "NYu75WW3us5W"
      },
      "source": [
        "# Primer programa en Python 3\r\n",
        "nombre=\"Alexis\"\r\n",
        "edad=19\r\n",
        "print(\"Hola\", nombre, edad)"
      ],
      "execution_count": null,
      "outputs": []
    },
    {
      "cell_type": "markdown",
      "metadata": {
        "id": "Cu-dPFSdvp4h"
      },
      "source": [
        "# La función print()\r\n",
        "Es una d elas funciones mas empleadas en programacion y\r\n",
        "busca enviar datos a la salida estandar(monitor).\r\n",
        "\r\n",
        "### Formas de uso\r\n",
        "1. Con comas\r\n",
        "2. Con signos+\r\n",
        "3. .format()\r\n",
        "4. el operador f\"    \"\r\n",
        "\r\n",
        "### Con comas\r\n",
        "Conecta los argumentos a print y les agrega un espacio.\r\n",
        "### Con signos\r\n",
        "Concatena los valores sin espacio y sin hacer conversion de tipos.\r\n",
        "### Con la funcion format()\r\n",
        "Permite darle formato a la salida de la \r\n",
        "impresion de variables. Emplea la funcion \r\n",
        "format de el tipo de dato String.\r\n",
        "\r\n",
        "\"cadena {} a {} forma{}tear\".format(v1,v2,vn)\r\n",
        "\r\n",
        "Emplea como comodines para sustituir valores\r\n",
        "los signos {}.\r\n",
        "###Con el operador f\r\n",
        "Es una variante de la forma anterior pero enmascarado\r\n",
        "la funcion formar()."
      ]
    },
    {
      "cell_type": "code",
      "metadata": {
        "id": "4r7Xm7A9wjWu"
      },
      "source": [
        "print(\"Hola\" , nombre , edad)\r\n",
        "print(\"Hola\" + nombre + str(edad) )\r\n",
        "# Nombre: Jose, con una edad de: 18 años.\r\n",
        "print(\"Nombre:\", nombre, \"con una edad de:\", edad, \"años\")\r\n",
        "print(\"Nombre:\" + nombre + \"con una edad de:\" + str(edad) + \"años\")\r\n",
        "# con format()\r\n",
        "print(\"Nombre: {} con una edad de: {} años.\".format(nombre,edad))\r\n",
        "# con el operador f\r\n",
        "print(f\"Nombre: {nombre} con una edad de: {edad} años.\")"
      ],
      "execution_count": null,
      "outputs": []
    },
    {
      "cell_type": "markdown",
      "metadata": {
        "id": "fe14tPjt2Jyg"
      },
      "source": [
        "# Funcion print y los caracteres de escape.\r\n",
        "- \\n salto de line\r\n",
        "- \\t tabulador\r\n",
        "- \\\\ imprimir la diagonal\r\n",
        "- \\´ y \\\"\r\n",
        "- \\uxxxx\r\n",
        "- \\uxxxxxxxx"
      ]
    },
    {
      "cell_type": "code",
      "metadata": {
        "colab": {
          "base_uri": "https://localhost:8080/"
        },
        "id": "eCuD_ZYh3tgW",
        "outputId": "45ae1a46-a4a6-4159-bc99-f81a198189d1"
      },
      "source": [
        "print('\"')\r\n",
        "print(\"\\\"\")\r\n",
        "print(\"Nombre: Jose\\n\\tcon una edad de: 18 años.\")\r\n",
        "# caracteres unicode\r\n",
        "print(\"Hola \\u553F\")"
      ],
      "execution_count": 16,
      "outputs": [
        {
          "output_type": "stream",
          "text": [
            "\"\n",
            "\"\n",
            "Nombre: Jose\n",
            "\tcon una edad de: 18 años.\n",
            "Hola 唿\n"
          ],
          "name": "stdout"
        }
      ]
    },
    {
      "cell_type": "markdown",
      "metadata": {
        "id": "n-DZ0Wm88Enz"
      },
      "source": [
        "# Print y salto de linea en el argumento\r\n",
        "\r\n",
        "print([lista de variables a imprimir], \r\n",
        "end=\"\\n\")"
      ]
    },
    {
      "cell_type": "code",
      "metadata": {
        "id": "bvpAePUy8YGD"
      },
      "source": [
        "print(\"Hola\", end=\"\\u2344\")\r\n",
        "print(\"Mundo\", end=\"++++\" )\r\n",
        "print(\"Fin\", end=\"\\n\")"
      ],
      "execution_count": null,
      "outputs": []
    },
    {
      "cell_type": "markdown",
      "metadata": {
        "id": "kAX2mvF79k1k"
      },
      "source": [
        "# Comentarios en Python\r\n",
        "Un comentario en progrmacion, es un \r\n",
        "texto especial que es ignorado por el \r\n",
        "interprete o compilador (Segun sea el\r\n",
        "caso) y es empleado para que el \r\n",
        "programador documente su algoritmo.\r\n",
        "\r\n",
        "Existen dos tipos: De linea simple y\r\n",
        "de multiple linea.\r\n",
        "\r\n",
        "En Python:\r\n",
        "- linea simple emplea #\r\n",
        "- linea multiple\r\n",
        "```\r\n",
        "Esto es un comentario \r\n",
        "de linea multiple\r\n",
        "```"
      ]
    },
    {
      "cell_type": "code",
      "metadata": {
        "id": "AfMpLdE0-x-w"
      },
      "source": [
        "print(\"Hola\")\r\n",
        "# print(\"Hola\")\r\n",
        "# cualquier cosa\r\n",
        "print(\"Hola\")\r\n",
        "print(\"Hola\")\r\n",
        "print(\"Hola\")\r\n",
        "print(\"Hola\")\r\n",
        "\"\"\"\r\n",
        "Esto es un comentario de \r\n",
        "multiple linea.Ideal para cuando\r\n",
        "se desee explicar algo a fondo o con mas detalles.\r\n",
        "\"\"\"\r\n",
        "print(\"Hola\")"
      ],
      "execution_count": null,
      "outputs": []
    }
  ]
}