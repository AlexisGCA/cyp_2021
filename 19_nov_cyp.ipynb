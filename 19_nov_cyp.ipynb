{
  "nbformat": 4,
  "nbformat_minor": 0,
  "metadata": {
    "colab": {
      "name": "19_nov_cyp.ipynb",
      "provenance": [],
      "authorship_tag": "ABX9TyMdTIIIzX3aRnBCy//gB6wS",
      "include_colab_link": true
    },
    "kernelspec": {
      "name": "python3",
      "display_name": "Python 3"
    }
  },
  "cells": [
    {
      "cell_type": "markdown",
      "metadata": {
        "id": "view-in-github",
        "colab_type": "text"
      },
      "source": [
        "<a href=\"https://colab.research.google.com/github/AlexisGCA/cyp_2021/blob/main/19_nov_cyp.ipynb\" target=\"_parent\"><img src=\"https://colab.research.google.com/assets/colab-badge.svg\" alt=\"Open In Colab\"/></a>"
      ]
    },
    {
      "cell_type": "code",
      "metadata": {
        "colab": {
          "base_uri": "https://localhost:8080/"
        },
        "id": "XkxfgtzqhR1n",
        "outputId": "ba2221a4-d24b-4c7c-8026-ae5ffe032999"
      },
      "source": [
        "# Concepto de asignación de izquierda a derecha\n",
        "I = 0\n",
        "I = I + 1\n",
        "I = I + 1\n",
        "print(f\"I = { I } \")\n",
        "J = 5 ** 2 / 3\n",
        "print(f\"J = { J } \")"
      ],
      "execution_count": 4,
      "outputs": [
        {
          "output_type": "stream",
          "text": [
            "I = 2 \n",
            "J = 8.333333333333334 \n"
          ],
          "name": "stdout"
        }
      ]
    },
    {
      "cell_type": "code",
      "metadata": {
        "colab": {
          "base_uri": "https://localhost:8080/"
        },
        "id": "dv68tSLTmuqA",
        "outputId": "0e44a2ed-ad87-417f-8fe9-2488494716eb"
      },
      "source": [
        "# Declaración de variables (reservando memoria)\n",
        "A = 0\n",
        "B = 0\n",
        "C = 0\n",
        "D = 0\n",
        "\n",
        "A = int(input(\"Dame un valor entero: \"))\n",
        "B = int(input(\"Dame un valor entero: \"))\n",
        "C = int(input(\"Dame un valor entero: \"))\n",
        "D = int(input(\"Dame un valor entero: \"))\n",
        "\n",
        "print(D)\n",
        "print(C)\n",
        "print(B)\n",
        "print(A)"
      ],
      "execution_count": 5,
      "outputs": [
        {
          "output_type": "stream",
          "text": [
            "Dame un valor entero: 10\n",
            "Dame un valor entero: 20\n",
            "Dame un valor entero: 30\n",
            "Dame un valor entero: 40\n",
            "40\n",
            "30\n",
            "20\n",
            "10\n"
          ],
          "name": "stdout"
        }
      ]
    },
    {
      "cell_type": "code",
      "metadata": {
        "colab": {
          "base_uri": "https://localhost:8080/"
        },
        "id": "Iwlyeg5Sonkd",
        "outputId": "7ba29f64-88ae-4e80-e6b2-3e4d50a491e8"
      },
      "source": [
        "# Ejemplo 1.7 \n",
        "A = 0\n",
        "B = 0\n",
        "A = int(input(\"Dame un valor entero: \"))\n",
        "B = int(input(\"Dame otro entero: \"))\n",
        "RES = (A + B) ** 2 / 3\n",
        "print(RES)"
      ],
      "execution_count": 16,
      "outputs": [
        {
          "output_type": "stream",
          "text": [
            "Dame un valor entero: 14\n",
            "Dame otro entero: -5\n",
            "27.0\n"
          ],
          "name": "stdout"
        }
      ]
    },
    {
      "cell_type": "code",
      "metadata": {
        "colab": {
          "base_uri": "https://localhost:8080/"
        },
        "id": "tvKpV2oTp5Os",
        "outputId": "6a1983f6-bca4-4f10-c127-f5d34324f157"
      },
      "source": [
        "# Ejemplo 1.8\n",
        "MAT = 0\n",
        "CAL1 = 0\n",
        "CAL2 = 0\n",
        "CAL3 = 0\n",
        "CAL4 = 0\n",
        "CAL5 = 0\n",
        "PRO = 0.0\n",
        "\n",
        "MAT = int(input(\"Dame tu matricula: \")) \n",
        "CAL1 = float(input(\"Dame la primera calificación: \"))\n",
        "CAL2 = float(input(\"Dame la segunda calificación: \"))\n",
        "CAL3 = float(input(\"Dame la tercera calificación: \"))\n",
        "CAL4 = float(input(\"Dame la cuarta calificación: \"))\n",
        "CAL5 = float(input(\"Dame la quinta calificación: \"))\n",
        "PRO = (CAL1 + CAL2 + CAL3 + CAL4 + CAL5) / 5\n",
        "print(MAT , PRO)"
      ],
      "execution_count": 26,
      "outputs": [
        {
          "output_type": "stream",
          "text": [
            "Dame tu matricula: 18240\n",
            "Dame la primera calificación: 7.3\n",
            "Dame la segunda calificación: 6.8\n",
            "Dame la tercera calificación: 9.5\n",
            "Dame la cuarta calificación: 8\n",
            "Dame la quinta calificación: 8.5\n",
            "18240 8.02\n"
          ],
          "name": "stdout"
        }
      ]
    },
    {
      "cell_type": "code",
      "metadata": {
        "colab": {
          "base_uri": "https://localhost:8080/"
        },
        "id": "B7s8MD25vopF",
        "outputId": "9bfbadec-bcdd-43d5-bbc0-a9687a8ff775"
      },
      "source": [
        "# Ejemplo 1.9\n",
        "NUM = 0\n",
        "CUA = 0\n",
        "CUB = 0\n",
        "\n",
        "NUM = int(input(\"Dame un numero: \"))\n",
        "CUA = NUM * NUM\n",
        "CUB = NUM ** 3\n",
        "print(CUA , CUB)"
      ],
      "execution_count": 29,
      "outputs": [
        {
          "output_type": "stream",
          "text": [
            "Dame un numero: 7\n",
            "49 343\n"
          ],
          "name": "stdout"
        }
      ]
    },
    {
      "cell_type": "code",
      "metadata": {
        "colab": {
          "base_uri": "https://localhost:8080/"
        },
        "id": "gjx2VaiayQZw",
        "outputId": "9040633c-5fa6-45e6-d087-40f725eb39a6"
      },
      "source": [
        "# Ejemplo 1.10\n",
        "BASE = 0\n",
        "ALTU = 0\n",
        "SUP = 0\n",
        "PER = 0\n",
        "\n",
        "BASE = float(input(\"Dame la base del rectangulo: \"))\n",
        "ALTU = float(input(\"Dame la altura del rectangulo: \"))\n",
        "\n",
        "SUP = BASE * ALTU\n",
        "PER = 2 * (BASE + ALTU)\n",
        "print(\"La superficie es de \", SUP , \"y el perimetro es de \" , PER)"
      ],
      "execution_count": 37,
      "outputs": [
        {
          "output_type": "stream",
          "text": [
            "Dame la base del rectangulo: 8.5\n",
            "Dame la altura del rectangulo: 6.2\n",
            "La superficie es de  52.7 y el perimetro es de  29.4\n"
          ],
          "name": "stdout"
        }
      ]
    }
  ]
}