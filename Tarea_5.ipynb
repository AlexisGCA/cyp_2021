{
  "nbformat": 4,
  "nbformat_minor": 0,
  "metadata": {
    "colab": {
      "name": "Tarea_5.ipynb",
      "provenance": [],
      "authorship_tag": "ABX9TyOTopl/P6HiJKN8Ea5NQ52p",
      "include_colab_link": true
    },
    "kernelspec": {
      "name": "python3",
      "display_name": "Python 3"
    }
  },
  "cells": [
    {
      "cell_type": "markdown",
      "metadata": {
        "id": "view-in-github",
        "colab_type": "text"
      },
      "source": [
        "<a href=\"https://colab.research.google.com/github/AlexisGCA/cyp_2021/blob/main/Tarea_5.ipynb\" target=\"_parent\"><img src=\"https://colab.research.google.com/assets/colab-badge.svg\" alt=\"Open In Colab\"/></a>"
      ]
    },
    {
      "cell_type": "code",
      "metadata": {
        "id": "dzHUJqPacUME",
        "colab": {
          "base_uri": "https://localhost:8080/"
        },
        "outputId": "3b2adaf6-0821-4793-b417-af7bc75c45a8"
      },
      "source": [
        "# Ejercicio 3.1\n",
        "NOMINA = 0\n",
        "\n",
        "for i in range(0,10):\n",
        "  \n",
        "  SUELDO = int(input(\"Ingrese su sueldo: \"))\n",
        "  NOMINA = NOMINA + SUELDO\n",
        "  \n",
        "print(f\"La nomina total es de {NOMINA}\")"
      ],
      "execution_count": 35,
      "outputs": [
        {
          "output_type": "stream",
          "text": [
            "Ingrese su sueldo: 1234\n",
            "Ingrese su sueldo: 7542\n",
            "Ingrese su sueldo: 3455\n",
            "Ingrese su sueldo: 3242\n",
            "Ingrese su sueldo: 1234\n",
            "Ingrese su sueldo: 7424\n",
            "Ingrese su sueldo: 8346\n",
            "Ingrese su sueldo: 4213\n",
            "Ingrese su sueldo: 3264\n",
            "Ingrese su sueldo: 1532\n",
            "La nomina total es de 41486\n"
          ],
          "name": "stdout"
        }
      ]
    },
    {
      "cell_type": "code",
      "metadata": {
        "colab": {
          "base_uri": "https://localhost:8080/"
        },
        "id": "WoTv0lFmpcCA",
        "outputId": "692b3c81-9b12-449d-d193-86f911c3b6c7"
      },
      "source": [
        "# Ejercicio 3.4\n",
        "SUMGAS = 0\n",
        "GASTO=int(input(\"Ingrese el gasto: \"))\n",
        "\n",
        "while GASTO != -1:\n",
        " \n",
        "  SUMGAS = SUMGAS + GASTO\n",
        "  GASTO=int(input(\"Ingrese el gasto: \"))\n",
        "\n",
        "print(f\"Su gasto total es de: {SUMGAS}\")"
      ],
      "execution_count": 34,
      "outputs": [
        {
          "output_type": "stream",
          "text": [
            "Ingrese el gasto: 2528\n",
            "Ingrese el gasto: 3500\n",
            "Ingrese el gasto: 1600\n",
            "Ingrese el gasto: 1850\n",
            "Ingrese el gasto: 150\n",
            "Ingrese el gasto: -1\n",
            "Su gasto total es de: 9628\n"
          ],
          "name": "stdout"
        }
      ]
    }
  ]
}