{
  "nbformat": 4,
  "nbformat_minor": 0,
  "metadata": {
    "colab": {
      "name": "26_Ene_CyP.ipynb",
      "provenance": [],
      "authorship_tag": "ABX9TyMRcUgvXODPrfIxJk6ZR8GI",
      "include_colab_link": true
    },
    "kernelspec": {
      "name": "python3",
      "display_name": "Python 3"
    }
  },
  "cells": [
    {
      "cell_type": "markdown",
      "metadata": {
        "id": "view-in-github",
        "colab_type": "text"
      },
      "source": [
        "<a href=\"https://colab.research.google.com/github/AlexisGCA/cyp_2021/blob/main/26_Ene_CyP.ipynb\" target=\"_parent\"><img src=\"https://colab.research.google.com/assets/colab-badge.svg\" alt=\"Open In Colab\"/></a>"
      ]
    },
    {
      "cell_type": "markdown",
      "metadata": {
        "id": "lKIYdSdetFmy"
      },
      "source": [
        "# Listas de Python 3\r\n",
        "\r\n",
        "1. Es una estructura de datos lineal de 0 o n elementos.\r\n",
        "2. \"Equivalente\" a los arreglos.\r\n",
        "3. Pueden ser de diferente tipo de dato.\r\n",
        "4. Pueden ser anidados, listas de listas. [\"Melon\" , [\"Manzana roja\" , \"Manzana amarilla\"]]\r\n",
        "5. Su selector es de la forma: [int]\r\n",
        "6. Son mutables.\r\n",
        "\r\n",
        "\r\n",
        "\r\n",
        "\r\n"
      ]
    },
    {
      "cell_type": "code",
      "metadata": {
        "id": "dslNSoJwuWDn"
      },
      "source": [
        "# Ejemplos\r\n",
        "numeros = [4,2,45,7,83,3]\r\n",
        "print(numeros)\r\n",
        "print(numeros[2])\r\n",
        "\r\n",
        "# Una lista de 0 elementos\r\n",
        "colores=[] #list()\r\n",
        "type(colores) # Averiguar tipo de dato es la variable\r\n",
        "dias=list()\r\n",
        "print(colores)\r\n",
        "print(dias)\r\n"
      ],
      "execution_count": null,
      "outputs": []
    },
    {
      "cell_type": "code",
      "metadata": {
        "id": "ZuY8UPlBwJnT"
      },
      "source": [
        "# Pueden ser diferentes tipos de datos\r\n",
        "\r\n",
        "mi_lista = [ 1 , 2 , 3 , \"Jose\" , False , 1.76 , [5547119674,6542346752,3434567619] ]\r\n",
        "print(mi_lista)\r\n",
        "print(mi_lista[5])\r\n",
        "print(mi_lista[6][2])\r\n",
        "print(mi_lista[3][3])\r\n",
        "print(mi_lista[3][3::])\r\n",
        "print(mi_lista[3][-1::1])"
      ],
      "execution_count": null,
      "outputs": []
    },
    {
      "cell_type": "code",
      "metadata": {
        "id": "QUTNqi0P0sPs"
      },
      "source": [
        "frutas=(\"melon\",\"sandia\",\"kiwi\",\"aguacate\",\"mango\",\"platano\")\r\n",
        "frutas[0]=\"Melon\"\r\n",
        "print(frutas)\r\n",
        "# frutas[1]= \"S\"\r\n",
        "# print(frutas)\r\n",
        "frutas[1]=frutas[1].capitalize()\r\n",
        "print(frutas)\r\n"
      ],
      "execution_count": null,
      "outputs": []
    },
    {
      "cell_type": "code",
      "metadata": {
        "id": "oHpKNlIz2J5u"
      },
      "source": [
        "# Las listas son cases por lo tanto, tienen metodos.\r\n",
        "# Ejemplo: Append, agrega un elemento al final\r\n",
        "frutas=(\"melon\",\"sandia\",\"kiwi\",\"aguacate\",\"mango\",\"platano\")\r\n",
        "frutas.append(\"fresa\")\r\n",
        "print(frutas)\r\n",
        "\r\n",
        "print(\"Ejemplo de copias\")\r\n",
        "otras_frutas = frutas\r\n",
        "print(frutas)\r\n",
        "print(otras_frutas)\r\n",
        "otras_frutas[0]=\"Chico zapote\"\r\n",
        "print(\"--------\")\r\n",
        "\r\n",
        "print(\"Ejemplo de extend\")\r\n",
        "colores=(\"rojo\",\"verde\",\"azul\")\r\n",
        "frutas.extend(colores)\r\n",
        "print(colores)\r\n",
        "\r\n",
        "print(\"Ejemplo indert\")\r\n",
        "frutas.insert(3,\"Limon\")\r\n",
        "print(frutas)\r\n",
        "\r\n",
        "print(\"Ejemplo remove\")\r\n",
        "frutas.remove(\"kiwi\")\r\n",
        "print(frutas)\r\n",
        "\r\n",
        "print(\"Ejemplo del\")\r\n",
        "del frutas[2] #Operador de lista\r\n",
        "print(frutas)\r\n",
        "\r\n",
        "frutas.clear()\r\n",
        "print(frutas)"
      ],
      "execution_count": null,
      "outputs": []
    },
    {
      "cell_type": "code",
      "metadata": {
        "id": "0kk0SoSGCcFQ"
      },
      "source": [
        "cosas = [\"jose\", True, 2,3,4,5,\"pedro\",1.23]\r\n",
        "indice=0\r\n",
        "a_eliminar=[]\r\n",
        "for elemento in cosas:\r\n",
        "  if isinstance(elemento, int):\r\n",
        "    print(\"entero\", elemento)\r\n",
        "    a_eliminar.append(elemento)\r\n",
        "    indice += 1\r\n",
        "print(a_eliminar)\r\n",
        "\r\n",
        "for indice in a_eliminar:\r\n",
        "  print(indice)\r\n",
        "  cosas.remove(elemento)\r\n",
        "print(cosas)"
      ],
      "execution_count": null,
      "outputs": []
    },
    {
      "cell_type": "code",
      "metadata": {
        "id": "YT3y4H11FGd4"
      },
      "source": [
        "# Slicing sobre listas\r\n",
        "frutas=(\"melon\",\"sandia\",\"kiwi\",\"aguacate\",\"mango\",\"platano\")\r\n",
        "print(frutas[1:4:])\r\n",
        "\r\n",
        "sitemas_operativos=(\"Windows\",\"Linux\",\"MacOS\", \"Android\")\r\n",
        "autos=(\"Ford\",\"Mazda\",\"Honda\")\r\n",
        "\r\n",
        "cosas=[sitemas_operativos, autos]\r\n",
        "print(cosas)\r\n",
        "print(cosas[1])\r\n",
        "print(cosas[0][2])\r\n",
        "print(cosas[0][3][2:5:1])"
      ],
      "execution_count": null,
      "outputs": []
    }
  ]
}