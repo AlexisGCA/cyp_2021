{
  "nbformat": 4,
  "nbformat_minor": 0,
  "metadata": {
    "colab": {
      "name": "14_Ene_CyP.ipynb",
      "provenance": [],
      "authorship_tag": "ABX9TyNdmNg2ICEUJSL7A1RsxMfX",
      "include_colab_link": true
    },
    "kernelspec": {
      "name": "python3",
      "display_name": "Python 3"
    }
  },
  "cells": [
    {
      "cell_type": "markdown",
      "metadata": {
        "id": "view-in-github",
        "colab_type": "text"
      },
      "source": [
        "<a href=\"https://colab.research.google.com/github/AlexisGCA/cyp_2021/blob/main/14_Ene_CyP.ipynb\" target=\"_parent\"><img src=\"https://colab.research.google.com/assets/colab-badge.svg\" alt=\"Open In Colab\"/></a>"
      ]
    },
    {
      "cell_type": "markdown",
      "metadata": {
        "id": "lFqsAeG85EkI"
      },
      "source": [
        "# Palabras reservadas en Python 3\r\n",
        "1. False\r\n",
        "1. None\r\n",
        "1. True\r\n",
        "1. and\r\n",
        "1. as\r\n",
        "1. assert\r\n",
        "1. break\r\n",
        "1. class\r\n",
        "1. continue\r\n",
        "1. def\r\n",
        "1. del\r\n",
        "1. elif\r\n",
        "1. else\r\n",
        "1. except\r\n",
        "1. finally\r\n",
        "1. for\r\n",
        "1. from\r\n",
        "1. global\r\n",
        "1. if\r\n",
        "1. import\r\n",
        "1. in\r\n",
        "1. is\r\n",
        "1. lambda\r\n",
        "1. nonlocal\r\n",
        "1. not\r\n",
        "1. or\r\n",
        "1. pass\r\n",
        "1. raise\r\n",
        "1. return\r\n",
        "1. try\r\n",
        "1. while\r\n",
        "1. with\r\n",
        "1. yield\r\n"
      ]
    },
    {
      "cell_type": "code",
      "metadata": {
        "id": "lgWrIWPn5eAW"
      },
      "source": [
        "import keyword\r\n",
        "pr=keyword.kwlist\r\n",
        "print(len(pr))\r\n",
        "for palabra in pr:\r\n",
        "  print(\"1.\",palabra)"
      ],
      "execution_count": null,
      "outputs": []
    },
    {
      "cell_type": "markdown",
      "metadata": {
        "id": "QtQErASP63i5"
      },
      "source": [
        "## Variable\r\n",
        "Es un espacio de memoria de la computadora para almacenar valores que cambian a lo largo de la ejecucion del programa. Este espacio de memoria esta referenciado por un identificador, el cual tiene ciertas reglas de nombrado.\r\n",
        "- No puede inciar con numero.\r\n",
        "- No debe ser igual a alguna de las palabras reservadas.\r\n",
        "- Puede iniciar con _.\r\n",
        "- Evitar nombres de variables largos.\r\n",
        "- Evitar muy cortos, ejemplo: x, y, i\r\n",
        "- Usar notacion snake_case\r\n"
      ]
    },
    {
      "cell_type": "code",
      "metadata": {
        "id": "nkQSl9gm7sCH"
      },
      "source": [
        "_2edad=12\r\n",
        "print(_2edad)\r\n",
        "\"\"\"\r\n",
        "No se puede utilizar una palabra reservada como identificadorde variable:\r\n",
        "for=12\r\n",
        "print(for)\r\n",
        "\"\"\""
      ],
      "execution_count": null,
      "outputs": []
    },
    {
      "cell_type": "code",
      "metadata": {
        "id": "af_oWvhG9zZv"
      },
      "source": [
        "\"\"\"\r\n",
        "La notacion snake case consta de formar el identificador de variable\r\n",
        "separando las palabras del mismo con un guin bajo.\r\n",
        "\r\n",
        "Se recomienda que los identificadores se escriban en minuscula para las variables\r\n",
        "y en mayuscula para las constantes.\r\n",
        "\r\n",
        "Es decir si tenemos una variable para los dias de la semana, se escribiria asi\r\n",
        "\r\n",
        "dias_de_la_semana=7\r\n",
        "dias_mes=31\r\n",
        "limite_maximo=100\r\n",
        "\r\n",
        "\"\"\""
      ],
      "execution_count": null,
      "outputs": []
    },
    {
      "cell_type": "markdown",
      "metadata": {
        "id": "wrtsgfnm91Lb"
      },
      "source": [
        "# Tipos de Datos\r\n",
        "- Numérico\r\n",
        " - int   4 bytes ( 1, 2, 12312, etc)\r\n",
        " - float 4 bytes ( 1.14, 3.1416, etc)\r\n",
        " - long  8 bytes ( 1, 2, 312321, etc)\r\n",
        " - complex 3 + 2j (Raices negativas)\r\n",
        " \r\n",
        "- Booleano\r\n",
        " - True\r\n",
        " - False\r\n",
        "\r\n",
        "- String\r\n",
        " - Cadena de caracteres (cad\"\",cad \"\"\" \"\"\")\r\n",
        "\r\n",
        "- Listas\r\n",
        " - ([1,2,3,4] o [a,b,1,2])\r\n",
        "\r\n",
        "- Tuplas\r\n",
        " - ( (edad,23 , (3,4) )\r\n",
        "\r\n",
        "- Conjuntos\r\n",
        "\r\n",
        "- Diccionarios\r\n",
        " - ( {\"nombre\":\"Juan\"} )"
      ]
    },
    {
      "cell_type": "markdown",
      "metadata": {
        "id": "cU-k1sftEESr"
      },
      "source": [
        "# Tipo de Dato String\r\n",
        "\r\n",
        "Este tipo de dato permite almacenar cadenas\r\n",
        "de caracteres, como por ejemplo:\r\n",
        "```\r\n",
        "nombre= 'Jesus'\r\n",
        "lugar_nacimiento= \"Mexico D.F.\"\r\n",
        "frase_favorita=\"\"\"\r\n",
        "Soy muy bueno,\r\n",
        "lo se ...\r\n",
        "```"
      ]
    },
    {
      "cell_type": "code",
      "metadata": {
        "id": "v43CHhswFSpS"
      },
      "source": [
        "nombre= 'Jesus'\r\n",
        "lugar_nacimiento= \"Mexico D.F.\"\r\n",
        "frase_favorita=\"\"\"\r\n",
        "Soy muy bueno,\r\n",
        "lo se ...\r\n",
        "\"\"\"\r\n",
        "print(nombre)\r\n",
        "print(lugar_nacimiento)\r\n",
        "print(frase_favorita)"
      ],
      "execution_count": null,
      "outputs": []
    },
    {
      "cell_type": "markdown",
      "metadata": {
        "id": "MkyMop_SFkH3"
      },
      "source": [
        "# Strings como arreglos\r\n",
        "Un string en python es almacenado como\r\n",
        "el tipo de dato  (estructura de datos)\r\n",
        "arreglo.\r\n",
        "\r\n",
        "Por ejemplo la declaracion:\r\n",
        "\r\n",
        "```\r\n",
        "nombre= \"Jesus\"\r\n",
        "```\r\n",
        "El elemento \"J\" es almacenado en un arreglo en la posicion 0. La en la 1\r\n",
        " y asi sucesivamente.\r\n",
        "\r\n",
        " ### Selector\r\n",
        " La notacion para seleccionar un elemento del arreglo es:\r\n",
        "```\r\n",
        " [ 1 ]\r\n",
        "```\r\n",
        "Donde el valor interno debe ser un valor numerico entero."
      ]
    },
    {
      "cell_type": "code",
      "metadata": {
        "id": "s2RUZQnrGTE1"
      },
      "source": [
        "nombre = 'Jesus'\r\n",
        "print(nombre)\r\n",
        "print(nombre[0])\r\n",
        "print(nombre[3])"
      ],
      "execution_count": null,
      "outputs": []
    },
    {
      "cell_type": "markdown",
      "metadata": {
        "id": "zxMaH6w2HTCh"
      },
      "source": [
        "# Iterar sobre un String\r\n",
        "\r\n",
        "Se puede iterar sobre un String con un for de la forma:\r\n",
        "```\r\n",
        "for letra in range(len(nombre)):\r\n",
        "  print(letra)\r\n",
        "```"
      ]
    },
    {
      "cell_type": "code",
      "metadata": {
        "id": "DCrAqBfNIdvd"
      },
      "source": [
        "for indice in range(len(nombre)):\r\n",
        "  print(indice , end=\" \")\r\n",
        "  print( nombre[indice] )"
      ],
      "execution_count": null,
      "outputs": []
    },
    {
      "cell_type": "markdown",
      "metadata": {
        "id": "YGeKSrnHJ_EM"
      },
      "source": [
        "# Funcion range(incio, stop, incremento)\r\n",
        "El inico es opcional y por defecto tiene el valor 0.\r\n",
        "\r\n",
        "El incremento tambien es opcional y por defecto 1."
      ]
    },
    {
      "cell_type": "code",
      "metadata": {
        "colab": {
          "base_uri": "https://localhost:8080/"
        },
        "id": "AZuvLvYnJ7rE",
        "outputId": "09142852-7bff-458b-e815-58912c949b09"
      },
      "source": [
        "for indice in range( 1  ,len(nombre) , 1):\r\n",
        "  print(nombre[indice])"
      ],
      "execution_count": 20,
      "outputs": [
        {
          "output_type": "stream",
          "text": [
            "e\n",
            "s\n",
            "u\n",
            "s\n"
          ],
          "name": "stdout"
        }
      ]
    },
    {
      "cell_type": "code",
      "metadata": {
        "colab": {
          "base_uri": "https://localhost:8080/"
        },
        "id": "-Qp-AtLTK34s",
        "outputId": "6f448569-f9a0-4f51-be75-0a505ef92f4d"
      },
      "source": [
        "for indice in range( 4 , -1 , -1):\r\n",
        "  print(nombre[indice])"
      ],
      "execution_count": 38,
      "outputs": [
        {
          "output_type": "stream",
          "text": [
            "s\n",
            "u\n",
            "s\n",
            "e\n",
            "J\n"
          ],
          "name": "stdout"
        }
      ]
    },
    {
      "cell_type": "markdown",
      "metadata": {
        "id": "VSL7hnMhL0E1"
      },
      "source": [
        "# Strings e idexado negativo\r\n",
        "En python 3 se agrega una nueva caracteristica a los a los arreglos de las cadenas de caracteres, esta consta de la capacidad de indexar de forma negativa.\r\n",
        "\r\n",
        "La logica es la siguiente.\r\n",
        "\r\n",
        "El ultimo elemento se le considera como indice (ALTERNATIVO) -1, con lo cual se podria referenciar el final de la cadena sin la necesidad de saber el tamaño de la misma.\r\n",
        "\r\n",
        "```\r\n",
        "nombre= 'Alexis'\r\n",
        "```\r\n",
        "indice normal  0 1 2 3 4\r\n",
        "               \r\n",
        "               A L E X I S\r\n",
        "\r\n",
        "indice alter. -5 -4 -3 -2 -1"
      ]
    },
    {
      "cell_type": "code",
      "metadata": {
        "id": "IkKzkWEDMjmn"
      },
      "source": [
        "nombre = \"Alexis\"\r\n",
        "print(nombre[4])  \r\n",
        "print(nombre[-1])\r\n",
        "print(\"\")\r\n",
        "for indice_alter in range(-1 , -6 , -1):\r\n",
        "  print( nombre[indice_alter])"
      ],
      "execution_count": null,
      "outputs": []
    },
    {
      "cell_type": "markdown",
      "metadata": {
        "id": "kqJE02XrN1vD"
      },
      "source": [
        "# Slicing de cadenas de caracteres.\r\n",
        "Esta caracteristica permite sacar secciones de una cadena con la siguiente sintaxis:\r\n",
        "\r\n",
        "[ incio: stop : incremento]\r\n",
        "\r\n",
        "donde inicio e incremento son opcionales y tambien soportan indexado alternactivo (negativos)."
      ]
    },
    {
      "cell_type": "code",
      "metadata": {
        "id": "Vrs6e4NeQbsS"
      },
      "source": [
        "facultad = \"Faculata de Estudios Superiores Aragón (La mejor)\"\r\n",
        "\r\n",
        "print(facultad)\r\n",
        "for indice in range(12, 20, 1):\r\n",
        "  print(facultad[indice] , en=\"\")\r\n",
        "\r\n",
        "# Hacer esto mismo con la caracterisitica Slicing se logra asi:\r\n",
        "print(\"Con Slicing\")\r\n",
        "print(facultad[12:20:1])\r\n",
        "\r\n",
        "# la palabra \"de\" con slicing\r\n",
        "print(facultad[9:11:1])"
      ],
      "execution_count": null,
      "outputs": []
    }
  ]
}