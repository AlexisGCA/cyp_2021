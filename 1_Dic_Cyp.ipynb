{
  "nbformat": 4,
  "nbformat_minor": 0,
  "metadata": {
    "colab": {
      "name": "1_Dic_Cyp.ipynb",
      "provenance": [],
      "authorship_tag": "ABX9TyM/0XsZKdl9fIowiGfnSEb5",
      "include_colab_link": true
    },
    "kernelspec": {
      "name": "python3",
      "display_name": "Python 3"
    }
  },
  "cells": [
    {
      "cell_type": "markdown",
      "metadata": {
        "id": "view-in-github",
        "colab_type": "text"
      },
      "source": [
        "<a href=\"https://colab.research.google.com/github/AlexisGCA/cyp_2021/blob/main/1_Dic_Cyp.ipynb\" target=\"_parent\"><img src=\"https://colab.research.google.com/assets/colab-badge.svg\" alt=\"Open In Colab\"/></a>"
      ]
    },
    {
      "cell_type": "code",
      "metadata": {
        "colab": {
          "base_uri": "https://localhost:8080/"
        },
        "id": "rEYidueVTDZs",
        "outputId": "8ea5d1bc-0a0c-4ed4-e705-e4e6bb3bb5bb"
      },
      "source": [
        "# Ejemplo 1\n",
        "# Pedir 3 numeros enteros y mostrar el mayor de los tres\n",
        "\n",
        "numero1 = int(input(\"Introduce el primer numero:\"))\n",
        "numero2 = int(input(\"Introduce el segundo numero:\"))\n",
        "numero3 = int(input(\"Introduce el tercer numero:\"))\n",
        "\n",
        "if numero1 >= numero2  and numero1 >= numero3:\n",
        " print(numero1, \"es el mayor\")\n",
        "\n",
        "elif numero2 >= numero1 and numero2 >= numero3:\n",
        " print(numero2 ,\"es el mayor\")"
      ],
      "execution_count": 10,
      "outputs": [
        {
          "output_type": "stream",
          "text": [
            "Introduce el primer numero:9\n",
            "Introduce el segundo numero:3\n",
            "Introduce el tercer numero:4\n",
            "9 es el mayor\n"
          ],
          "name": "stdout"
        }
      ]
    },
    {
      "cell_type": "code",
      "metadata": {
        "colab": {
          "base_uri": "https://localhost:8080/"
        },
        "id": "KcXOMNDHVdLV",
        "outputId": "37baead9-36b5-4081-b335-de9c282b2659"
      },
      "source": [
        "# Ejemplo 2\n",
        "print(\"Ingrese el nombre del trabajador\")\n",
        "nombre = input()\n",
        "print(\"Cuantas horas trabajo esta semana\" , nombre,\":\")\n",
        "horas=input()\n",
        "horas=int(horas)\n",
        "print(\"Cuantas horas se paga por hora\")\n",
        "sueldoH=input()\n",
        "sueldoH=float(sueldoH)\n",
        "\n",
        "# Evaluar el sueldo\n",
        "\n",
        "if(horas<=40):\n",
        "  pago=horas * sueldoH\n",
        "  print(\"El sueldo final de \" , nombre , \"Es $\", pago)\n",
        "\n",
        "else:\n",
        "  extras=horas-40\n",
        "  pago= 40 * sueldoH\n",
        "  pagoFinal= pago + ((extras * sueldoH) *2)\n",
        "  print(\"El sueldo final de \" , nombre , \"Es $\" , pago)"
      ],
      "execution_count": 22,
      "outputs": [
        {
          "output_type": "stream",
          "text": [
            "Ingrese el nombre del trabajador\n",
            "Karla\n",
            "Cuantas horas trabajo esta semana Karla :\n",
            "39\n",
            "Cuantas horas se paga por hora\n",
            "10\n",
            "El sueldo final de  Karla Es $ 390.0\n"
          ],
          "name": "stdout"
        }
      ]
    },
    {
      "cell_type": "code",
      "metadata": {
        "colab": {
          "base_uri": "https://localhost:8080/"
        },
        "id": "R9gnQeweZrf8",
        "outputId": "d7a4fa0e-8bec-4d1c-ac75-e9ec6e445bcb"
      },
      "source": [
        "# Ejemplo 3\n",
        "#Calcular el salario semanal de x trabajor\n",
        "#El salario semanal se calcula en base a las horas semanales trabajadas\n",
        "#El pago por hora es variable (se pide por teclado)\n",
        "#Si las horas trabajadas superan las 40 horas, el pago por hora extra es:\n",
        "#Doble en el rago de 41 horas a 50 horas\n",
        "#Triple en el rango de 51 horas a 60 horas\n",
        "#Incentivo de $2000 si rebasa 60 horas.\n",
        "\n",
        "print(\"Ingrese el nombre del empleado\")\n",
        "nombre = input()\n",
        "print(\"Cuantas horas trabajo esta semana\" , nombre,\":\")\n",
        "horas=input()\n",
        "horas=int(horas)\n",
        "print(\"Cuantas horas se paga por hora\")\n",
        "sueldoH=input()\n",
        "sueldoH=float(sueldoH)\n",
        "\n",
        "#Evaluar el sueldo\n",
        "\n",
        "if(horas<=40):\n",
        "  pago= horas * sueldoH\n",
        "  print(\"El sueldo Final de: \", nombre , \"Es $\", pago)\n",
        "\n",
        "elif(horas > 40 and horas <= 50):\n",
        "  extrasDobles=horas-40\n",
        "  print(\"Horas extra dobles:\" , extrasDobles)\n",
        "  pago=40*sueldoH\n",
        "  print(\"Sueldo base:$\" , pago)\n",
        "  pagoDoble= extrasDobles * sueldoH * 2\n",
        "  print(\"Pago de horas dobles:$\" , pagoDoble)\n",
        "  pagoFinal=pago + pagoDoble\n",
        "  print(\"El sueldo Final de: \", nombre , \" Es $\", pagoFinal)\n",
        "\n",
        "elif (horas >50 and horas <=60):\n",
        "  extrasTriples= horas - 50\n",
        "  print(\"Horas extra dobles:10\")\n",
        "  print(\"Horas extra triples:\", extrasTriples)\n",
        "  pago= 40 * sueldoH\n",
        "  print(\"Sueldo Base:$\", pago)\n",
        "  pagoDoble= 10 * sueldoH *2\n",
        "  print(\"Pago de horas extras dobles:\", pagoDoble)\n",
        "  pagoTriple= extrasTriples * sueldoH * 3\n",
        "  print(\"Pago de horas extras triples:\", pagoTriple)\n",
        "  pagoFinal= pago + pagoDoble + pagoTriple\n",
        "  print(\"El sueldo final es de:\", pagoFinal)\n",
        "\n",
        "else:\n",
        "  extrasTriples=10\n",
        "  print(\"Horas extras dobles 10\")\n",
        "  print(\"Horas extras triples 10\")\n",
        "  pago = 40 * sueldoH\n",
        "  print(\"Sueldo Base:$\", pago)\n",
        "  pagoDoble=10*sueldoH*2\n",
        "  print(\"Pago de horas extras dobles:\", pagoDoble)\n",
        "  pagoTriple= extrasTriples * sueldoH*3\n",
        "  print(\"Pago de horas extra triples:\", pagoTriple)\n",
        "  print(\"Incentivo por trabajar mas de 60 horas:$ $2000\")\n",
        "  pagoFinal= pago + pagoDoble + pagoTriple + 2000\n",
        "  print(\"El sueldo final es de:$\" , pagoFinal)"
      ],
      "execution_count": 29,
      "outputs": [
        {
          "output_type": "stream",
          "text": [
            "Ingrese el nombre del empleado\n",
            "Ana\n",
            "Cuantas horas trabajo esta semana Ana :\n",
            "10\n",
            "Cuantas horas se paga por hora\n",
            "40\n",
            "El sueldo Final de:  Ana Es $ 400.0\n"
          ],
          "name": "stdout"
        }
      ]
    },
    {
      "cell_type": "code",
      "metadata": {
        "colab": {
          "base_uri": "https://localhost:8080/"
        },
        "id": "iB7Pr0M9oZH4",
        "outputId": "b1b0815f-dc04-4f02-835c-7f24cf67c5c5"
      },
      "source": [
        "#Estructura FOR\n",
        "     # Ejemplo 1\n",
        "\n",
        "for estaciones_año in [\"primavera\", \"verano\", \"otoño\", \"invierno\"]:#in palabra reservada, elemento a recorrer\n",
        "  print(estaciones_año)\n",
        "\n",
        "  #Variables que suelen formar parte de FOR son \"i\""
      ],
      "execution_count": 35,
      "outputs": [
        {
          "output_type": "stream",
          "text": [
            "primavera\n",
            "verano\n",
            "otoño\n",
            "invierno\n"
          ],
          "name": "stdout"
        }
      ]
    }
  ]
}