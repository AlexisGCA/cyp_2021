{
  "nbformat": 4,
  "nbformat_minor": 0,
  "metadata": {
    "colab": {
      "name": "17_nov_cyp.ipynb",
      "provenance": [],
      "authorship_tag": "ABX9TyPAkyq6nOfW+SYYNtmMNif6",
      "include_colab_link": true
    },
    "kernelspec": {
      "name": "python3",
      "display_name": "Python 3"
    }
  },
  "cells": [
    {
      "cell_type": "markdown",
      "metadata": {
        "id": "view-in-github",
        "colab_type": "text"
      },
      "source": [
        "<a href=\"https://colab.research.google.com/github/AlexisGCA/cyp_2021/blob/main/17_nov_cyp.ipynb\" target=\"_parent\"><img src=\"https://colab.research.google.com/assets/colab-badge.svg\" alt=\"Open In Colab\"/></a>"
      ]
    },
    {
      "cell_type": "code",
      "metadata": {
        "colab": {
          "base_uri": "https://localhost:8080/"
        },
        "id": "oMDCWkwsSVzD",
        "outputId": "178eb0f2-0003-402c-ee4f-67fe810929b9"
      },
      "source": [
        "edad=15\n",
        "estatura=1.67\n",
        "a=10\n",
        "b=3\n",
        "\n",
        "c= 2 ** b + 2 + 3 + 4\n",
        "\n",
        "print( c )\n",
        "\n",
        "e = estatura * 2.0\n",
        "print( e )\n",
        "\n",
        "f = a / b #En phyton se hace el cálculo exacto\n",
        "print( f )\n",
        "\n",
        "# Tambien podemos forzar al calculo de enteros\n",
        "g= a // b\n",
        "print(\"g=\", g )\n",
        "\n",
        "h= a % b \n",
        "print(\"h = \", h) \n",
        "\n",
        "num = 11\n",
        "print(\"Es par num ? \", (num % 2) == 0)"
      ],
      "execution_count": 13,
      "outputs": [
        {
          "output_type": "stream",
          "text": [
            "17\n",
            "3.34\n",
            "3.3333333333333335\n",
            "g= 3\n",
            "h =  1\n",
            "Es par num ?  False\n"
          ],
          "name": "stdout"
        }
      ]
    },
    {
      "cell_type": "code",
      "metadata": {
        "colab": {
          "base_uri": "https://localhost:8080/"
        },
        "id": "n4JoGLuyW5jh",
        "outputId": "38f2ed5f-cf8a-443a-aaac-1345ab0259ad"
      },
      "source": [
        "ecuacion = 9 + 7 * 8 - 36 / 5 # 9 + 56 - 7.2 -> 65 - 7.2 = 57.8\n",
        "print( ecuacion )\n",
        "\n",
        "ecuacion = (9 + 7) * 8 - 36 / 5 # 128 - 7.2\n",
        "print( ecuacion )"
      ],
      "execution_count": 15,
      "outputs": [
        {
          "output_type": "stream",
          "text": [
            "57.8\n",
            "120.8\n"
          ],
          "name": "stdout"
        }
      ]
    },
    {
      "cell_type": "code",
      "metadata": {
        "colab": {
          "base_uri": "https://localhost:8080/"
        },
        "id": "2qaUvgpYcsHR",
        "outputId": "186899ab-bf23-4d4b-b737-fbfec5aaf0f4"
      },
      "source": [
        "# operadores logicos --> True y False\n",
        "\n",
        "x = 5\n",
        "y = 4\n",
        "\n",
        "valor = (x == y) # son diferentes?? --> Falso\n",
        "print(valor)\n",
        "\n",
        "valor = (x != y) # son diferentes?? --> Verdadero\n",
        "print(valor)\n",
        "\n",
        "valor = ( x < y) # x es menor que y ?? Falso\n",
        "print(valor)\n",
        "\n",
        "valor = ( x > y) # x es mayor que y ?? Falso\n",
        "print(valor)\n",
        "\n",
        "y=5\n",
        "valor = ( x <= y) # x es menor que y ?? True\n",
        "print(valor)\n",
        "\n",
        "\n",
        "valor = (x >= y) # x es mayor que y ?? True\n",
        "print(valor)"
      ],
      "execution_count": 19,
      "outputs": [
        {
          "output_type": "stream",
          "text": [
            "False\n",
            "True\n",
            "False\n",
            "True\n",
            "True\n",
            "True\n"
          ],
          "name": "stdout"
        }
      ]
    },
    {
      "cell_type": "code",
      "metadata": {
        "colab": {
          "base_uri": "https://localhost:8080/"
        },
        "id": "Bhh1KIeFgQN4",
        "outputId": "cb82ff14-5ba2-453c-b390-526318c4c107"
      },
      "source": [
        "costo_chetos = 7.0\n",
        "tienda_abierta = True\n",
        "capital_en_bolsa = 10.0\n",
        "se_compra = (costo_chetos < capital_en_bolsa ) and (tienda_abierta == True)\n",
        "print(se_compra)"
      ],
      "execution_count": 20,
      "outputs": [
        {
          "output_type": "stream",
          "text": [
            "True\n"
          ],
          "name": "stdout"
        }
      ]
    }
  ]
}