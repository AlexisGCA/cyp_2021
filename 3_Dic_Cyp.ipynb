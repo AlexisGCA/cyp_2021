{
  "nbformat": 4,
  "nbformat_minor": 0,
  "metadata": {
    "colab": {
      "name": "3_Dic_Cyp.ipynb",
      "provenance": [],
      "authorship_tag": "ABX9TyMD9vqbP1x3B1/Ve2IpV5fU",
      "include_colab_link": true
    },
    "kernelspec": {
      "name": "python3",
      "display_name": "Python 3"
    }
  },
  "cells": [
    {
      "cell_type": "markdown",
      "metadata": {
        "id": "view-in-github",
        "colab_type": "text"
      },
      "source": [
        "<a href=\"https://colab.research.google.com/github/AlexisGCA/cyp_2021/blob/main/3_Dic_Cyp.ipynb\" target=\"_parent\"><img src=\"https://colab.research.google.com/assets/colab-badge.svg\" alt=\"Open In Colab\"/></a>"
      ]
    },
    {
      "cell_type": "code",
      "metadata": {
        "colab": {
          "base_uri": "https://localhost:8080/"
        },
        "id": "MgVGpQwplq88",
        "outputId": "dd86b0b0-fb86-4b32-a40d-081f1e8bc50e"
      },
      "source": [
        "# Ejemplo 1\n",
        "for i in[1,2,3,5]:\n",
        "  print(f\"El elemento: {i}\")"
      ],
      "execution_count": 1,
      "outputs": [
        {
          "output_type": "stream",
          "text": [
            "El elemento: 1\n",
            "El elemento: 2\n",
            "El elemento: 3\n",
            "El elemento: 5\n"
          ],
          "name": "stdout"
        }
      ]
    },
    {
      "cell_type": "code",
      "metadata": {
        "colab": {
          "base_uri": "https://localhost:8080/"
        },
        "id": "g8fwam7LnRWE",
        "outputId": "95c74426-8dfc-4d5d-ee2d-e2ac36a6212c"
      },
      "source": [
        "coleccion=[1,2,3,4,5]\n",
        "for i in coleccion:\n",
        "  print(f\"El elemento: {i}\")"
      ],
      "execution_count": 2,
      "outputs": [
        {
          "output_type": "stream",
          "text": [
            "El elemento: 1\n",
            "El elemento: 2\n",
            "El elemento: 3\n",
            "El elemento: 4\n",
            "El elemento: 5\n"
          ],
          "name": "stdout"
        }
      ]
    },
    {
      "cell_type": "code",
      "metadata": {
        "colab": {
          "base_uri": "https://localhost:8080/"
        },
        "id": "xN-XpcLIn3Ts",
        "outputId": "c5267649-a010-43c2-e383-dbada74138b4"
      },
      "source": [
        "# Ejemplo 2\n",
        "coleccion={\"Mario\":20, \"Mariana\":19, \"Jessica\":14, \"Luis\":18}\n",
        "for i in coleccion:\n",
        "  print(f\"Elemento: {i}\")"
      ],
      "execution_count": 4,
      "outputs": [
        {
          "output_type": "stream",
          "text": [
            "Elemento: Mario\n",
            "Elemento: Mariana\n",
            "Elemento: Jessica\n",
            "Elemento: Luis\n"
          ],
          "name": "stdout"
        }
      ]
    },
    {
      "cell_type": "code",
      "metadata": {
        "colab": {
          "base_uri": "https://localhost:8080/"
        },
        "id": "4nKGSlucotQ2",
        "outputId": "7f0f0467-58da-4b94-c144-fe791b9c8d25"
      },
      "source": [
        "coleccion={\"Mario\":20, \"Mariana\":19, \"Jessica\":14, \"Luis\":18}\n",
        "for i in coleccion:\n",
        "  print(f\"{coleccion [i]}\")"
      ],
      "execution_count": 5,
      "outputs": [
        {
          "output_type": "stream",
          "text": [
            "20\n",
            "19\n",
            "14\n",
            "18\n"
          ],
          "name": "stdout"
        }
      ]
    },
    {
      "cell_type": "code",
      "metadata": {
        "colab": {
          "base_uri": "https://localhost:8080/"
        },
        "id": "d2TIBm5ipxug",
        "outputId": "d2348f64-fe63-469e-f073-774e89d9ebc7"
      },
      "source": [
        "coleccion={\"Mario\":20, \"Mariana\":19, \"Jessica\":14, \"Luis\":18}\n",
        "for i in coleccion:\n",
        "  print(f\"{i}-->{coleccion[i]}\")"
      ],
      "execution_count": 8,
      "outputs": [
        {
          "output_type": "stream",
          "text": [
            "Mario-->20\n",
            "Mariana-->19\n",
            "Jessica-->14\n",
            "Luis-->18\n"
          ],
          "name": "stdout"
        }
      ]
    },
    {
      "cell_type": "code",
      "metadata": {
        "colab": {
          "base_uri": "https://localhost:8080/"
        },
        "id": "8Cc5QmTDrZB7",
        "outputId": "e17721ec-4418-4e81-fdf1-ba6d3d1d0538"
      },
      "source": [
        "coleccion={\"Mario\":20, \"Mariana\":19, \"Jessica\":14, \"Luis\":18}\n",
        "for clave, valor in coleccion.items():\n",
        "  print(f\"{clave}->{valor}\")"
      ],
      "execution_count": 9,
      "outputs": [
        {
          "output_type": "stream",
          "text": [
            "Mario->20\n",
            "Mariana->19\n",
            "Jessica->14\n",
            "Luis->18\n"
          ],
          "name": "stdout"
        }
      ]
    },
    {
      "cell_type": "code",
      "metadata": {
        "colab": {
          "base_uri": "https://localhost:8080/"
        },
        "id": "vaCqo55zr_PT",
        "outputId": "eb38a32d-be1c-4cb4-9823-5347c8f81015"
      },
      "source": [
        "# Ejemplo 3\n",
        "email=False\n",
        "for i in\"ariel@unam.mx\":\n",
        "  if(i==\"@\"):\n",
        "    email=True\n",
        "if email==True:\n",
        "  print(\"El email es correcto\")\n",
        "\n",
        "else:\n",
        "  print(\"El correo no es correcto\")"
      ],
      "execution_count": 18,
      "outputs": [
        {
          "output_type": "stream",
          "text": [
            "El email es correcto\n"
          ],
          "name": "stdout"
        }
      ]
    },
    {
      "cell_type": "code",
      "metadata": {
        "colab": {
          "base_uri": "https://localhost:8080/"
        },
        "id": "l8vuO0U9tmP5",
        "outputId": "4e637e26-beac-4c53-89de-53ecc02447e5"
      },
      "source": [
        "email=False\n",
        "miEmail=input(\"Introduce tu correo electronico:\")\n",
        "for i in miEmail:\n",
        "  \n",
        "  if(i==\"@\"):\n",
        "    email=True\n",
        "if email==True:\n",
        "  print(\"El email es correcto\")\n",
        "\n",
        "else:\n",
        "  print(\"El correo no es correcto\")\n"
      ],
      "execution_count": 25,
      "outputs": [
        {
          "output_type": "stream",
          "text": [
            "Introduce tu correo electronico:algaca2d@gmail.com\n",
            "El email es correcto\n"
          ],
          "name": "stdout"
        }
      ]
    },
    {
      "cell_type": "code",
      "metadata": {
        "colab": {
          "base_uri": "https://localhost:8080/"
        },
        "id": "9sY2ohO6vCLv",
        "outputId": "00b07d9c-ccba-4d85-e704-a5bd368868c1"
      },
      "source": [
        "# For-Range\n",
        "\n",
        "for i in range (5):\n",
        "  print(\"Hola\")"
      ],
      "execution_count": 26,
      "outputs": [
        {
          "output_type": "stream",
          "text": [
            "Hola\n",
            "Hola\n",
            "Hola\n",
            "Hola\n",
            "Hola\n"
          ],
          "name": "stdout"
        }
      ]
    },
    {
      "cell_type": "code",
      "metadata": {
        "colab": {
          "base_uri": "https://localhost:8080/"
        },
        "id": "2HDSfRpdvnR0",
        "outputId": "c62e5842-8dee-461a-d47e-d3e115bfea77"
      },
      "source": [
        "for i in range (5):\n",
        "  print(i)"
      ],
      "execution_count": 27,
      "outputs": [
        {
          "output_type": "stream",
          "text": [
            "0\n",
            "1\n",
            "2\n",
            "3\n",
            "4\n"
          ],
          "name": "stdout"
        }
      ]
    },
    {
      "cell_type": "code",
      "metadata": {
        "colab": {
          "base_uri": "https://localhost:8080/"
        },
        "id": "GHi0EHI7weui",
        "outputId": "4f62be15-d4e6-447e-c263-7a7fc6c0b409"
      },
      "source": [
        "for i in range (10):\n",
        "  print(f\"Valor de la variable {i}\")"
      ],
      "execution_count": 32,
      "outputs": [
        {
          "output_type": "stream",
          "text": [
            "Valor de la variable 0\n",
            "Valor de la variable 1\n",
            "Valor de la variable 2\n",
            "Valor de la variable 3\n",
            "Valor de la variable 4\n",
            "Valor de la variable 5\n",
            "Valor de la variable 6\n",
            "Valor de la variable 7\n",
            "Valor de la variable 8\n",
            "Valor de la variable 9\n"
          ],
          "name": "stdout"
        }
      ]
    },
    {
      "cell_type": "code",
      "metadata": {
        "id": "PvsndIazyCTO"
      },
      "source": [
        "# While Ejemplos\n",
        "# Ejemplo 1\n",
        "\n",
        "i=1\n",
        "while i<=10:\n",
        "  print(\"Ejecucion\"+ str(i))"
      ],
      "execution_count": null,
      "outputs": []
    },
    {
      "cell_type": "code",
      "metadata": {
        "colab": {
          "base_uri": "https://localhost:8080/"
        },
        "id": "vRuu1PYFz6Ut",
        "outputId": "f7f2a94b-e9f1-4d1f-af48-5e673068aa3d"
      },
      "source": [
        "i=1\n",
        "while i <=10:\n",
        "  print(\"Ejecucion\"+str(i))\n",
        "\n",
        "  i=i+1"
      ],
      "execution_count": 36,
      "outputs": [
        {
          "output_type": "stream",
          "text": [
            "Ejecucion1\n",
            "Ejecucion2\n",
            "Ejecucion3\n",
            "Ejecucion4\n",
            "Ejecucion5\n",
            "Ejecucion6\n",
            "Ejecucion7\n",
            "Ejecucion8\n",
            "Ejecucion9\n",
            "Ejecucion10\n"
          ],
          "name": "stdout"
        }
      ]
    },
    {
      "cell_type": "code",
      "metadata": {
        "colab": {
          "base_uri": "https://localhost:8080/"
        },
        "id": "72GygISG1MQU",
        "outputId": "9bd3de00-8ed3-47bf-ed90-83cfcc7ea7af"
      },
      "source": [
        " edad=int(input(\"Intoduce tu edad:\"))\n",
        "while edad <0:\n",
        "  print(\"has intriducido una edad negativa.Intentalo de nuevo\")\n",
        "  edad=int(input(\"Introduce tu edad:\"))\n",
        "print(\"Gracias por participar, puedes pasar\")\n",
        "print(\"Edad del concursante \"+str(edad))"
      ],
      "execution_count": 37,
      "outputs": [
        {
          "output_type": "stream",
          "text": [
            "Intoduce tu edad:-12\n",
            "has intriducido una edad negativa.Intentalo de nuevo\n",
            "Introduce tu edad:12\n",
            "Gracias por participar, puedes pasar\n",
            "Edad del concursante 12\n"
          ],
          "name": "stdout"
        }
      ]
    },
    {
      "cell_type": "code",
      "metadata": {
        "colab": {
          "base_uri": "https://localhost:8080/"
        },
        "id": "EpsLucFh6qIL",
        "outputId": "704497fd-ecca-4cc1-deca-14465458723e"
      },
      "source": [
        " edad=int(input(\"Intoduce tu edad:\"))\n",
        "while edad <10 or edad >=100:\n",
        "  print(\"has intriducido una edad negativa.Intentalo de nuevo\")\n",
        "  edad=int(input(\"Introduce tu edad:\"))\n",
        "print(\"Gracias por participar, puedes pasar\")\n",
        "print(\"Edad del concursante \"+str(edad))"
      ],
      "execution_count": 39,
      "outputs": [
        {
          "output_type": "stream",
          "text": [
            "Intoduce tu edad:101\n",
            "has intriducido una edad negativa.Intentalo de nuevo\n",
            "Introduce tu edad:99\n",
            "Gracias por participar, puedes pasar\n",
            "Edad del concursante 99\n"
          ],
          "name": "stdout"
        }
      ]
    }
  ]
}