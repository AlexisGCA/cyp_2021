{
  "nbformat": 4,
  "nbformat_minor": 0,
  "metadata": {
    "colab": {
      "name": "Tarea_4.ipynb",
      "provenance": [],
      "authorship_tag": "ABX9TyPrAghRiUd+Qaokpqkisy9K",
      "include_colab_link": true
    },
    "kernelspec": {
      "name": "python3",
      "display_name": "Python 3"
    }
  },
  "cells": [
    {
      "cell_type": "markdown",
      "metadata": {
        "id": "view-in-github",
        "colab_type": "text"
      },
      "source": [
        "<a href=\"https://colab.research.google.com/github/AlexisGCA/cyp_2021/blob/main/Tarea_4.ipynb\" target=\"_parent\"><img src=\"https://colab.research.google.com/assets/colab-badge.svg\" alt=\"Open In Colab\"/></a>"
      ]
    },
    {
      "cell_type": "code",
      "metadata": {
        "colab": {
          "base_uri": "https://localhost:8080/"
        },
        "id": "BQkYn9yFjY4n",
        "outputId": "4907358d-7dcf-45ee-d87e-8732fd7fc480"
      },
      "source": [
        "# Ejercicio 2.4\n",
        "SUE = float(input(\"Introduzca su sueldo:\"))\n",
        "if(SUE<1000):\n",
        "  NSUE= SUE * 1.15\n",
        "  print(\"Su sueldo es de:\", NSUE)\n",
        "\n",
        "else:\n",
        "  NSUE= SUE * 1.12\n",
        "  print(\"Su sueldo es de:\", NSUE)"
      ],
      "execution_count": 31,
      "outputs": [
        {
          "output_type": "stream",
          "text": [
            "Introduzca su sueldo:680.70\n",
            "Su sueldo es de: 782.805\n"
          ],
          "name": "stdout"
        }
      ]
    },
    {
      "cell_type": "code",
      "metadata": {
        "colab": {
          "base_uri": "https://localhost:8080/"
        },
        "id": "gn_DD6ijmEYy",
        "outputId": "a982f1ad-4152-45a8-b1fd-ccdf59b30a9a"
      },
      "source": [
        "# Ejercicio 2.8\n",
        "CATE = float(input(\"Introduzca su categoria:\"))\n",
        "SUE = float(input(\"Introduzca su sueldo:\"))\n",
        "\n",
        "if(CATE == 1 ):\n",
        "  print(\"Su categoria es: 1\")\n",
        "  CATE1= SUE * 1.15\n",
        "  print(\"Su sueldo es de:\", CATE1)\n",
        "\n",
        "elif(CATE == 2):\n",
        "  print(\"Su categoria es: 2\")\n",
        "  CATE2= SUE * 1.10\n",
        "  print(\"Su sueldo es de:\", CATE2)\n",
        "\n",
        "elif (CATE== 3):\n",
        "  print(\"Su categoria es: 3\")\n",
        "  CATE3= SUE * 1.08\n",
        "  print(\"Su sueldo es de:\", CATE3)\n",
        "\n",
        "elif (CATE == 4):\n",
        "  print(\"Su categoria es: 4\")\n",
        "  CATE4= SUE * 1.07\n",
        "  print(\"Su sueldo es de:\", CATE4)"
      ],
      "execution_count": 27,
      "outputs": [
        {
          "output_type": "stream",
          "text": [
            "Introduzca su categoria:4\n",
            "Introduzca su sueldo:6200\n",
            "Su categoria es: 4\n",
            "Su sueldo es de: 6634.0\n"
          ],
          "name": "stdout"
        }
      ]
    }
  ]
}