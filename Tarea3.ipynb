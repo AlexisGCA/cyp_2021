{
  "nbformat": 4,
  "nbformat_minor": 0,
  "metadata": {
    "colab": {
      "name": "Tarea3.ipynb",
      "provenance": [],
      "authorship_tag": "ABX9TyOccOvRDdSvazo3/UaAPFIi",
      "include_colab_link": true
    },
    "kernelspec": {
      "name": "python3",
      "display_name": "Python 3"
    }
  },
  "cells": [
    {
      "cell_type": "markdown",
      "metadata": {
        "id": "view-in-github",
        "colab_type": "text"
      },
      "source": [
        "<a href=\"https://colab.research.google.com/github/AlexisGCA/cyp_2021/blob/main/Tarea3.ipynb\" target=\"_parent\"><img src=\"https://colab.research.google.com/assets/colab-badge.svg\" alt=\"Open In Colab\"/></a>"
      ]
    },
    {
      "cell_type": "code",
      "metadata": {
        "colab": {
          "base_uri": "https://localhost:8080/"
        },
        "id": "txajRiNEW3QA",
        "outputId": "0f2b3133-a4a7-43f8-e25b-f50088af046a"
      },
      "source": [
        " # Problema 1.1\n",
        "PREPRO = 0\n",
        "PAGO = 0\n",
        "DEVO = 0\n",
        "\n",
        "PREPRO = float(input(\"Introduzca el precio del producto: \"))\n",
        "PAGO = int(input(\"Introduzca el pago: \")) \n",
        "DEVO = PAGO - PREPRO \n",
        "print(\"Su cambio es de\",DEVO)"
      ],
      "execution_count": null,
      "outputs": [
        {
          "output_type": "stream",
          "text": [
            "Introduzca el precio del producto: 86.25\n",
            "Introduzca el pago: 100\n",
            "Su cambio es de 13.75\n"
          ],
          "name": "stdout"
        }
      ]
    },
    {
      "cell_type": "code",
      "metadata": {
        "colab": {
          "base_uri": "https://localhost:8080/"
        },
        "id": "R_PcSWx9bjAq",
        "outputId": "b5d59128-67a7-4b9b-9d50-599f87b45813"
      },
      "source": [
        "# Problema 1.2\n",
        "BASE = 0\n",
        "ALTU = 0\n",
        "SUP = 0\n",
        "\n",
        "BASE = float(input(\"Introduzca la base del triángulo: \"))\n",
        "ALTU = float(input(\"Introduzca la altura del triángulo: \"))\n",
        "SUP = (BASE * ALTU) / 2\n",
        "print(\"La superficie es de\" ,SUP)"
      ],
      "execution_count": null,
      "outputs": [
        {
          "output_type": "stream",
          "text": [
            "Introduzca la base del triángulo: 8.5\n",
            "Introduzca la altura del triángulo: 7.2\n",
            "La superficie es de 30.6\n"
          ],
          "name": "stdout"
        }
      ]
    },
    {
      "cell_type": "code",
      "metadata": {
        "id": "LIpnUUgAeqxa",
        "colab": {
          "base_uri": "https://localhost:8080/"
        },
        "outputId": "cff3b5ab-cf26-4800-dcc1-c081dd2dfd1a"
      },
      "source": [
        "# Problema 1.3\n",
        "NOM = 0\n",
        "PES = 0\n",
        "LON = 0\n",
        "PESKIL = 0\n",
        "LONMET = 0\n",
        "\n",
        "NOM = input(\"Introduzca el nombre del dnosaurio: \")\n",
        "PES = float(input(\"Introduzca el peso del dinosaurio: \")) \n",
        "LON = float(input(\"Introduzca la longitud del dinosaurio: \")) \n",
        "PESKIL = PES * 1000\n",
        "LONMET = LON * 0.3047\n",
        "print(\"Su nombre es\", NOM , \"su peso es de\", PESKIL ,\"y tiene una longitud de\", LONMET)"
      ],
      "execution_count": 11,
      "outputs": [
        {
          "output_type": "stream",
          "text": [
            "Introduzca el nombre del dnosaurio: PLATEOSAURUS\n",
            "Introduzca el peso del dinosaurio: 5\n",
            "Introduzca la longitud del dinosaurio: 30\n",
            "Su nombre es PLATEOSAURUS su peso es de 5000.0 y tiene una longitud de 9.141\n"
          ],
          "name": "stdout"
        }
      ]
    },
    {
      "cell_type": "code",
      "metadata": {
        "colab": {
          "base_uri": "https://localhost:8080/"
        },
        "id": "8aCdUklZpmYM",
        "outputId": "a9902d40-4ae1-438a-9459-2c5848887403"
      },
      "source": [
        "# Problema 1.4\n",
        "GAL = 0\n",
        "TOTAL = 0\n",
        "\n",
        "GAL = float(input(\"Introduzca los galones de gasolina surtidos: \"))\n",
        "TOTAL = GAL * 3.785 * 8.20\n",
        "print(\"El precio a pagar es de\", TOTAL)"
      ],
      "execution_count": 12,
      "outputs": [
        {
          "output_type": "stream",
          "text": [
            "Introduzca los galones de gasolina surtidos: 10.38\n",
            "El precio a pagar es de 322.16406\n"
          ],
          "name": "stdout"
        }
      ]
    },
    {
      "cell_type": "code",
      "metadata": {
        "colab": {
          "base_uri": "https://localhost:8080/"
        },
        "id": "gNlvc-w2qaUB",
        "outputId": "fd9b930d-839e-4567-cf8c-bf3299dac555"
      },
      "source": [
        "# Problema 1.5\n",
        "RADIO = 0\n",
        "ALTU = 0\n",
        "VOL = 0\n",
        "ARE = 0\n",
        "\n",
        "RADIO = float(input(\"Introduzca el radio del cilindro: \"))\n",
        "ALTU = float(input(\"Introduzca la altura del cilindro: \"))\n",
        "VOL = 3.141592 * (RADIO ** 2) * ALTU\n",
        "ARE = 2 * 3.141592 * RADIO * ALTU\n",
        "print(\"El volumen del cilindro es de\", VOL ,\"y tiene un area de\", ARE)"
      ],
      "execution_count": 14,
      "outputs": [
        {
          "output_type": "stream",
          "text": [
            "Introduzca el radio del cilindro: 45.22\n",
            "Introduzca la altura del cilindro: 11.60\n",
            "El volumen del cilindro es de 74519.32074597248 y tiene un area de 3295.856733568\n"
          ],
          "name": "stdout"
        }
      ]
    },
    {
      "cell_type": "code",
      "metadata": {
        "colab": {
          "base_uri": "https://localhost:8080/"
        },
        "id": "43OdKYY-rS0A",
        "outputId": "8e37ee85-a73c-4afd-c36d-386b0b5416d2"
      },
      "source": [
        "# Problema 1.6\n",
        "DIAS = 0\n",
        "SEG = 0\n",
        "\n",
        "DIAS = int(input(\"Introduzca el numero de dias: \")) \n",
        "SEG = DIAS * 24 * 60 * 60\n",
        "print(\"En\", DIAS ,\"dias hay\", SEG ,\"segundos\") "
      ],
      "execution_count": 15,
      "outputs": [
        {
          "output_type": "stream",
          "text": [
            "Introduzca el numero de dias: 7\n",
            "En 7 dias hay 604800 segundos\n"
          ],
          "name": "stdout"
        }
      ]
    }
  ]
}