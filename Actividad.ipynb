{
  "nbformat": 4,
  "nbformat_minor": 0,
  "metadata": {
    "colab": {
      "name": "Actividad.ipynb",
      "provenance": [],
      "authorship_tag": "ABX9TyOsxS+T4s4QJhKbQUkG4cRN",
      "include_colab_link": true
    },
    "kernelspec": {
      "name": "python3",
      "display_name": "Python 3"
    }
  },
  "cells": [
    {
      "cell_type": "markdown",
      "metadata": {
        "id": "view-in-github",
        "colab_type": "text"
      },
      "source": [
        "<a href=\"https://colab.research.google.com/github/AlexisGCA/cyp_2021/blob/main/Actividad.ipynb\" target=\"_parent\"><img src=\"https://colab.research.google.com/assets/colab-badge.svg\" alt=\"Open In Colab\"/></a>"
      ]
    },
    {
      "cell_type": "code",
      "metadata": {
        "id": "56LRxZd0NKW0"
      },
      "source": [
        "numero=int (input(\"Dame un numero\"))\n",
        "if numero >0:\n",
        "  print(\"El numero es positivo\")\n",
        "\n",
        "  print(\"Fin del programa\")\n"
      ],
      "execution_count": null,
      "outputs": []
    },
    {
      "cell_type": "code",
      "metadata": {
        "id": "Z88N7E6bNrXu"
      },
      "source": [
        "numero=int (input(\"Ingresa un número:\"))\n",
        "if numero >0:\n",
        "  print(\"El número es positivo\")\n",
        "elif numero <0:\n",
        "  print(\"El número es negativo\")\n",
        "else:\n",
        "  print(\"El número es 0\")\n"
      ],
      "execution_count": null,
      "outputs": []
    }
  ]
}